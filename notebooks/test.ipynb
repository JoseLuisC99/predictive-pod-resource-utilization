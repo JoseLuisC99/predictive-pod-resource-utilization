{
 "cells": [
  {
   "cell_type": "code",
   "outputs": [],
   "source": [
    "import pandas as pd\n",
    "import numpy as np\n",
    "from tqdm import tqdm"
   ],
   "metadata": {
    "collapsed": false,
    "ExecuteTime": {
     "end_time": "2024-02-27T18:44:40.423410304Z",
     "start_time": "2024-02-27T18:44:40.179915736Z"
    }
   },
   "id": "210c81cd4635ba50",
   "execution_count": 2
  },
  {
   "cell_type": "code",
   "outputs": [],
   "source": [
    "metric_info = [\n",
    "    (\"container_cpu_usage_seconds_total\", \"cpu\"),\n",
    "    (\"container_memory_usage_bytes\", \"mem\")\n",
    "]\n",
    "pod_info = [\n",
    "    (\"adservice-b64d6db99-6qlr7\", \"adservice\"),\n",
    "    (\"cartservice-7bdffbf7-nzwgf\", \"cartservice\"),\n",
    "    (\"checkoutservice-7988bbf57d-ql2vx\", \"checkoutservice\"),\n",
    "    (\"currencyservice-6f58f94d86-mf5pn\", \"currencyservice\"),\n",
    "    (\"emailservice-965c88745-2zv7z\", \"emailservice\"),\n",
    "    (\"frontend-7cc759d45-7l2ff\", \"frontend\"),\n",
    "    (\"paymentservice-6cff547576-h4qsq\", \"paymentservice\"),\n",
    "    (\"productcatalogservice-6b7556db5-t2sfh\", \"productcatalogservice\"),\n",
    "    (\"recommendationservice-85555c666b-hhp27\", \"recommendationservice\"),\n",
    "    (\"redis-cart-5477c6b974-vsvd5\", \"redis-cart\"),\n",
    "    (\"shippingservice-68fc55fb6d-plfqx\", \"shippingservice\"),\n",
    "]"
   ],
   "metadata": {
    "collapsed": false,
    "ExecuteTime": {
     "end_time": "2024-02-27T18:44:12.878408713Z",
     "start_time": "2024-02-27T18:44:12.877753451Z"
    }
   },
   "id": "925dd4d185bb862b",
   "execution_count": 1
  },
  {
   "cell_type": "code",
   "outputs": [],
   "source": [
    "window = 12\n",
    "horizont = 1"
   ],
   "metadata": {
    "collapsed": false,
    "ExecuteTime": {
     "end_time": "2024-02-27T19:05:49.917709510Z",
     "start_time": "2024-02-27T19:05:49.873712493Z"
    }
   },
   "id": "87b94adc8e7ab900",
   "execution_count": 21
  },
  {
   "cell_type": "code",
   "outputs": [
    {
     "data": {
      "text/plain": "            adservice-cpu  cartservice-cpu  checkoutservice-cpu  \\\ntimestamp                                                         \n1708449998       2.837169         2.837169             2.837169   \n1708450898       2.684841         2.684841             2.684841   \n1708451798       2.697294         2.697294             2.697294   \n1708452698       2.688250         2.688250             2.688250   \n1708453598       2.689835         2.689835             2.689835   \n...                   ...              ...                  ...   \n1709051198       3.345288         3.345288             3.345288   \n1709052098       3.360023         3.360023             3.360023   \n1709052998       3.371598         3.371598             3.371598   \n1709053898       3.379190         3.379190             3.379190   \n1709054798       3.374403         3.374403             3.374403   \n\n            currencyservice-cpu  emailservice-cpu  frontend-cpu  \\\ntimestamp                                                         \n1708449998             2.837169          2.837169      2.837169   \n1708450898             2.684841          2.684841      2.684841   \n1708451798             2.697294          2.697294      2.697294   \n1708452698             2.688250          2.688250      2.688250   \n1708453598             2.689835          2.689835      2.689835   \n...                         ...               ...           ...   \n1709051198             3.345288          3.345288      3.345288   \n1709052098             3.360023          3.360023      3.360023   \n1709052998             3.371598          3.371598      3.371598   \n1709053898             3.379190          3.379190      3.379190   \n1709054798             3.374403          3.374403      3.374403   \n\n            paymentservice-cpu  productcatalogservice-cpu  \\\ntimestamp                                                   \n1708449998            2.837169                   2.837169   \n1708450898            2.684841                   2.684841   \n1708451798            2.697294                   2.697294   \n1708452698            2.688250                   2.688250   \n1708453598            2.689835                   2.689835   \n...                        ...                        ...   \n1709051198            3.345288                   3.345288   \n1709052098            3.360023                   3.360023   \n1709052998            3.371598                   3.371598   \n1709053898            3.379190                   3.379190   \n1709054798            3.374403                   3.374403   \n\n            recommendationservice-cpu  redis-cart-cpu  ...  cartservice-mem  \\\ntimestamp                                              ...                    \n1708449998                   2.837169        2.837169  ...     6.457040e+08   \n1708450898                   2.684841        2.684841  ...     6.785983e+08   \n1708451798                   2.697294        2.697294  ...     6.882176e+08   \n1708452698                   2.688250        2.688250  ...     7.062813e+08   \n1708453598                   2.689835        2.689835  ...     7.159098e+08   \n...                               ...             ...  ...              ...   \n1709051198                   3.345288        3.345288  ...     8.273749e+08   \n1709052098                   3.360023        3.360023  ...     8.221986e+08   \n1709052998                   3.371598        3.371598  ...     8.146160e+08   \n1709053898                   3.379190        3.379190  ...     8.287960e+08   \n1709054798                   3.374403        3.374403  ...     8.461157e+08   \n\n            checkoutservice-mem  currencyservice-mem  emailservice-mem  \\\ntimestamp                                                                \n1708449998         6.457040e+08         6.457040e+08      6.457040e+08   \n1708450898         6.785983e+08         6.785983e+08      6.785983e+08   \n1708451798         6.882176e+08         6.882176e+08      6.882176e+08   \n1708452698         7.062813e+08         7.062813e+08      7.062813e+08   \n1708453598         7.159098e+08         7.159098e+08      7.159098e+08   \n...                         ...                  ...               ...   \n1709051198         8.273749e+08         8.273749e+08      8.273749e+08   \n1709052098         8.221986e+08         8.221986e+08      8.221986e+08   \n1709052998         8.146160e+08         8.146160e+08      8.146160e+08   \n1709053898         8.287960e+08         8.287960e+08      8.287960e+08   \n1709054798         8.461157e+08         8.461157e+08      8.461157e+08   \n\n            frontend-mem  paymentservice-mem  productcatalogservice-mem  \\\ntimestamp                                                                 \n1708449998  6.457040e+08        6.457040e+08               6.457040e+08   \n1708450898  6.785983e+08        6.785983e+08               6.785983e+08   \n1708451798  6.882176e+08        6.882176e+08               6.882176e+08   \n1708452698  7.062813e+08        7.062813e+08               7.062813e+08   \n1708453598  7.159098e+08        7.159098e+08               7.159098e+08   \n...                  ...                 ...                        ...   \n1709051198  8.273749e+08        8.273749e+08               8.273749e+08   \n1709052098  8.221986e+08        8.221986e+08               8.221986e+08   \n1709052998  8.146160e+08        8.146160e+08               8.146160e+08   \n1709053898  8.287960e+08        8.287960e+08               8.287960e+08   \n1709054798  8.461157e+08        8.461157e+08               8.461157e+08   \n\n            recommendationservice-mem  redis-cart-mem  shippingservice-mem  \ntimestamp                                                                   \n1708449998               6.457040e+08    6.457040e+08         6.457040e+08  \n1708450898               6.785983e+08    6.785983e+08         6.785983e+08  \n1708451798               6.882176e+08    6.882176e+08         6.882176e+08  \n1708452698               7.062813e+08    7.062813e+08         7.062813e+08  \n1708453598               7.159098e+08    7.159098e+08         7.159098e+08  \n...                               ...             ...                  ...  \n1709051198               8.273749e+08    8.273749e+08         8.273749e+08  \n1709052098               8.221986e+08    8.221986e+08         8.221986e+08  \n1709052998               8.146160e+08    8.146160e+08         8.146160e+08  \n1709053898               8.287960e+08    8.287960e+08         8.287960e+08  \n1709054798               8.461157e+08    8.461157e+08         8.461157e+08  \n\n[673 rows x 22 columns]",
      "text/html": "<div>\n<style scoped>\n    .dataframe tbody tr th:only-of-type {\n        vertical-align: middle;\n    }\n\n    .dataframe tbody tr th {\n        vertical-align: top;\n    }\n\n    .dataframe thead th {\n        text-align: right;\n    }\n</style>\n<table border=\"1\" class=\"dataframe\">\n  <thead>\n    <tr style=\"text-align: right;\">\n      <th></th>\n      <th>adservice-cpu</th>\n      <th>cartservice-cpu</th>\n      <th>checkoutservice-cpu</th>\n      <th>currencyservice-cpu</th>\n      <th>emailservice-cpu</th>\n      <th>frontend-cpu</th>\n      <th>paymentservice-cpu</th>\n      <th>productcatalogservice-cpu</th>\n      <th>recommendationservice-cpu</th>\n      <th>redis-cart-cpu</th>\n      <th>...</th>\n      <th>cartservice-mem</th>\n      <th>checkoutservice-mem</th>\n      <th>currencyservice-mem</th>\n      <th>emailservice-mem</th>\n      <th>frontend-mem</th>\n      <th>paymentservice-mem</th>\n      <th>productcatalogservice-mem</th>\n      <th>recommendationservice-mem</th>\n      <th>redis-cart-mem</th>\n      <th>shippingservice-mem</th>\n    </tr>\n    <tr>\n      <th>timestamp</th>\n      <th></th>\n      <th></th>\n      <th></th>\n      <th></th>\n      <th></th>\n      <th></th>\n      <th></th>\n      <th></th>\n      <th></th>\n      <th></th>\n      <th></th>\n      <th></th>\n      <th></th>\n      <th></th>\n      <th></th>\n      <th></th>\n      <th></th>\n      <th></th>\n      <th></th>\n      <th></th>\n      <th></th>\n    </tr>\n  </thead>\n  <tbody>\n    <tr>\n      <th>1708449998</th>\n      <td>2.837169</td>\n      <td>2.837169</td>\n      <td>2.837169</td>\n      <td>2.837169</td>\n      <td>2.837169</td>\n      <td>2.837169</td>\n      <td>2.837169</td>\n      <td>2.837169</td>\n      <td>2.837169</td>\n      <td>2.837169</td>\n      <td>...</td>\n      <td>6.457040e+08</td>\n      <td>6.457040e+08</td>\n      <td>6.457040e+08</td>\n      <td>6.457040e+08</td>\n      <td>6.457040e+08</td>\n      <td>6.457040e+08</td>\n      <td>6.457040e+08</td>\n      <td>6.457040e+08</td>\n      <td>6.457040e+08</td>\n      <td>6.457040e+08</td>\n    </tr>\n    <tr>\n      <th>1708450898</th>\n      <td>2.684841</td>\n      <td>2.684841</td>\n      <td>2.684841</td>\n      <td>2.684841</td>\n      <td>2.684841</td>\n      <td>2.684841</td>\n      <td>2.684841</td>\n      <td>2.684841</td>\n      <td>2.684841</td>\n      <td>2.684841</td>\n      <td>...</td>\n      <td>6.785983e+08</td>\n      <td>6.785983e+08</td>\n      <td>6.785983e+08</td>\n      <td>6.785983e+08</td>\n      <td>6.785983e+08</td>\n      <td>6.785983e+08</td>\n      <td>6.785983e+08</td>\n      <td>6.785983e+08</td>\n      <td>6.785983e+08</td>\n      <td>6.785983e+08</td>\n    </tr>\n    <tr>\n      <th>1708451798</th>\n      <td>2.697294</td>\n      <td>2.697294</td>\n      <td>2.697294</td>\n      <td>2.697294</td>\n      <td>2.697294</td>\n      <td>2.697294</td>\n      <td>2.697294</td>\n      <td>2.697294</td>\n      <td>2.697294</td>\n      <td>2.697294</td>\n      <td>...</td>\n      <td>6.882176e+08</td>\n      <td>6.882176e+08</td>\n      <td>6.882176e+08</td>\n      <td>6.882176e+08</td>\n      <td>6.882176e+08</td>\n      <td>6.882176e+08</td>\n      <td>6.882176e+08</td>\n      <td>6.882176e+08</td>\n      <td>6.882176e+08</td>\n      <td>6.882176e+08</td>\n    </tr>\n    <tr>\n      <th>1708452698</th>\n      <td>2.688250</td>\n      <td>2.688250</td>\n      <td>2.688250</td>\n      <td>2.688250</td>\n      <td>2.688250</td>\n      <td>2.688250</td>\n      <td>2.688250</td>\n      <td>2.688250</td>\n      <td>2.688250</td>\n      <td>2.688250</td>\n      <td>...</td>\n      <td>7.062813e+08</td>\n      <td>7.062813e+08</td>\n      <td>7.062813e+08</td>\n      <td>7.062813e+08</td>\n      <td>7.062813e+08</td>\n      <td>7.062813e+08</td>\n      <td>7.062813e+08</td>\n      <td>7.062813e+08</td>\n      <td>7.062813e+08</td>\n      <td>7.062813e+08</td>\n    </tr>\n    <tr>\n      <th>1708453598</th>\n      <td>2.689835</td>\n      <td>2.689835</td>\n      <td>2.689835</td>\n      <td>2.689835</td>\n      <td>2.689835</td>\n      <td>2.689835</td>\n      <td>2.689835</td>\n      <td>2.689835</td>\n      <td>2.689835</td>\n      <td>2.689835</td>\n      <td>...</td>\n      <td>7.159098e+08</td>\n      <td>7.159098e+08</td>\n      <td>7.159098e+08</td>\n      <td>7.159098e+08</td>\n      <td>7.159098e+08</td>\n      <td>7.159098e+08</td>\n      <td>7.159098e+08</td>\n      <td>7.159098e+08</td>\n      <td>7.159098e+08</td>\n      <td>7.159098e+08</td>\n    </tr>\n    <tr>\n      <th>...</th>\n      <td>...</td>\n      <td>...</td>\n      <td>...</td>\n      <td>...</td>\n      <td>...</td>\n      <td>...</td>\n      <td>...</td>\n      <td>...</td>\n      <td>...</td>\n      <td>...</td>\n      <td>...</td>\n      <td>...</td>\n      <td>...</td>\n      <td>...</td>\n      <td>...</td>\n      <td>...</td>\n      <td>...</td>\n      <td>...</td>\n      <td>...</td>\n      <td>...</td>\n      <td>...</td>\n    </tr>\n    <tr>\n      <th>1709051198</th>\n      <td>3.345288</td>\n      <td>3.345288</td>\n      <td>3.345288</td>\n      <td>3.345288</td>\n      <td>3.345288</td>\n      <td>3.345288</td>\n      <td>3.345288</td>\n      <td>3.345288</td>\n      <td>3.345288</td>\n      <td>3.345288</td>\n      <td>...</td>\n      <td>8.273749e+08</td>\n      <td>8.273749e+08</td>\n      <td>8.273749e+08</td>\n      <td>8.273749e+08</td>\n      <td>8.273749e+08</td>\n      <td>8.273749e+08</td>\n      <td>8.273749e+08</td>\n      <td>8.273749e+08</td>\n      <td>8.273749e+08</td>\n      <td>8.273749e+08</td>\n    </tr>\n    <tr>\n      <th>1709052098</th>\n      <td>3.360023</td>\n      <td>3.360023</td>\n      <td>3.360023</td>\n      <td>3.360023</td>\n      <td>3.360023</td>\n      <td>3.360023</td>\n      <td>3.360023</td>\n      <td>3.360023</td>\n      <td>3.360023</td>\n      <td>3.360023</td>\n      <td>...</td>\n      <td>8.221986e+08</td>\n      <td>8.221986e+08</td>\n      <td>8.221986e+08</td>\n      <td>8.221986e+08</td>\n      <td>8.221986e+08</td>\n      <td>8.221986e+08</td>\n      <td>8.221986e+08</td>\n      <td>8.221986e+08</td>\n      <td>8.221986e+08</td>\n      <td>8.221986e+08</td>\n    </tr>\n    <tr>\n      <th>1709052998</th>\n      <td>3.371598</td>\n      <td>3.371598</td>\n      <td>3.371598</td>\n      <td>3.371598</td>\n      <td>3.371598</td>\n      <td>3.371598</td>\n      <td>3.371598</td>\n      <td>3.371598</td>\n      <td>3.371598</td>\n      <td>3.371598</td>\n      <td>...</td>\n      <td>8.146160e+08</td>\n      <td>8.146160e+08</td>\n      <td>8.146160e+08</td>\n      <td>8.146160e+08</td>\n      <td>8.146160e+08</td>\n      <td>8.146160e+08</td>\n      <td>8.146160e+08</td>\n      <td>8.146160e+08</td>\n      <td>8.146160e+08</td>\n      <td>8.146160e+08</td>\n    </tr>\n    <tr>\n      <th>1709053898</th>\n      <td>3.379190</td>\n      <td>3.379190</td>\n      <td>3.379190</td>\n      <td>3.379190</td>\n      <td>3.379190</td>\n      <td>3.379190</td>\n      <td>3.379190</td>\n      <td>3.379190</td>\n      <td>3.379190</td>\n      <td>3.379190</td>\n      <td>...</td>\n      <td>8.287960e+08</td>\n      <td>8.287960e+08</td>\n      <td>8.287960e+08</td>\n      <td>8.287960e+08</td>\n      <td>8.287960e+08</td>\n      <td>8.287960e+08</td>\n      <td>8.287960e+08</td>\n      <td>8.287960e+08</td>\n      <td>8.287960e+08</td>\n      <td>8.287960e+08</td>\n    </tr>\n    <tr>\n      <th>1709054798</th>\n      <td>3.374403</td>\n      <td>3.374403</td>\n      <td>3.374403</td>\n      <td>3.374403</td>\n      <td>3.374403</td>\n      <td>3.374403</td>\n      <td>3.374403</td>\n      <td>3.374403</td>\n      <td>3.374403</td>\n      <td>3.374403</td>\n      <td>...</td>\n      <td>8.461157e+08</td>\n      <td>8.461157e+08</td>\n      <td>8.461157e+08</td>\n      <td>8.461157e+08</td>\n      <td>8.461157e+08</td>\n      <td>8.461157e+08</td>\n      <td>8.461157e+08</td>\n      <td>8.461157e+08</td>\n      <td>8.461157e+08</td>\n      <td>8.461157e+08</td>\n    </tr>\n  </tbody>\n</table>\n<p>673 rows × 22 columns</p>\n</div>"
     },
     "execution_count": 22,
     "metadata": {},
     "output_type": "execute_result"
    }
   ],
   "source": [
    "node_df = pd.read_csv(\"../data/pod_metrics.csv\", index_col=\"timestamp\")\n",
    "node_df"
   ],
   "metadata": {
    "collapsed": false,
    "ExecuteTime": {
     "end_time": "2024-02-27T19:05:50.609458609Z",
     "start_time": "2024-02-27T19:05:50.580195606Z"
    }
   },
   "id": "49753c61c800e32",
   "execution_count": 22
  },
  {
   "cell_type": "code",
   "execution_count": 27,
   "id": "initial_id",
   "metadata": {
    "collapsed": true,
    "ExecuteTime": {
     "end_time": "2024-02-27T19:06:50.986717500Z",
     "start_time": "2024-02-27T19:06:48.558700091Z"
    }
   },
   "outputs": [
    {
     "name": "stderr",
     "output_type": "stream",
     "text": [
      "100%|██████████| 661/661 [00:02<00:00, 272.95it/s]\n"
     ]
    }
   ],
   "source": [
    "X_node = []\n",
    "y_node = []\n",
    "\n",
    "for i in tqdm(range(window, len(node_df) - horizont + 1)):\n",
    "    node_window = node_df.iloc[i - window: i]\n",
    "    node_horizont = node_df.iloc[i + horizont - 1]\n",
    "\n",
    "    x, y = [], []\n",
    "    for (_, pod_name) in pod_info:\n",
    "        x.append(node_window[[f\"{pod_name}-cpu\", f\"{pod_name}-mem\"]].to_numpy())\n",
    "        y.append(node_horizont[[f\"{pod_name}-cpu\", f\"{pod_name}-mem\"]].to_numpy())\n",
    "    X_node.append(np.array(x).swapaxes(0, 1))\n",
    "    y_node.append(np.array(y))\n",
    "X_node = np.array(X_node)\n",
    "y_node = np.array(y_node)\n",
    "X_node[:, :, :, 1] = X_node[:, :, :, 1] / 1e6\n",
    "y_node[:, :, 1] = y_node[:, :, 1] / 1e6\n",
    "# np.savez(os.path.join(args.output, \"node_features.npz\"), X=X_node, y=y_node)"
   ]
  },
  {
   "cell_type": "code",
   "outputs": [
    {
     "data": {
      "text/plain": "(661, 12, 11, 2)"
     },
     "execution_count": 28,
     "metadata": {},
     "output_type": "execute_result"
    }
   ],
   "source": [
    "X_node.shape"
   ],
   "metadata": {
    "collapsed": false,
    "ExecuteTime": {
     "end_time": "2024-02-27T19:06:50.987740071Z",
     "start_time": "2024-02-27T19:06:50.986029306Z"
    }
   },
   "id": "8e6616f1d5abe7b1",
   "execution_count": 28
  },
  {
   "cell_type": "code",
   "outputs": [],
   "source": [],
   "metadata": {
    "collapsed": false
   },
   "id": "bc580c95cea82578"
  }
 ],
 "metadata": {
  "kernelspec": {
   "display_name": "Python 3",
   "language": "python",
   "name": "python3"
  },
  "language_info": {
   "codemirror_mode": {
    "name": "ipython",
    "version": 2
   },
   "file_extension": ".py",
   "mimetype": "text/x-python",
   "name": "python",
   "nbconvert_exporter": "python",
   "pygments_lexer": "ipython2",
   "version": "2.7.6"
  }
 },
 "nbformat": 4,
 "nbformat_minor": 5
}
